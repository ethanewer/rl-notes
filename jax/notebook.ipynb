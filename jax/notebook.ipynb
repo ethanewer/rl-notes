{
 "cells": [
  {
   "cell_type": "code",
   "execution_count": null,
   "metadata": {},
   "outputs": [
    {
     "name": "stderr",
     "output_type": "stream",
     "text": [
      "Optimizing Policy: 100%|██████████| 750/750 [01:18<00:00,  9.61it/s]\n",
      "Optimizing Policy:  31%|███       | 229/750 [00:20<01:30,  5.77it/s]"
     ]
    }
   ],
   "source": [
    "import optax\n",
    "from flax import nnx\n",
    "from jax_policy_grad import optimize_policy_gradient, plot_rewards\n",
    "\n",
    "import jax.numpy as jnp\n",
    "from jax import Array\n",
    "\n",
    "device = \"cpu\"\n",
    "\n",
    "\n",
    "def noncausal_loss(policy: nnx.Module, s: Array, a: Array, r: Array):\n",
    "    return optax.softmax_cross_entropy_with_integer_labels(policy(s), a).sum() * r.sum()\n",
    "\n",
    "\n",
    "def causal_loss(policy, s: Array, a: Array, r: Array):\n",
    "    q = jnp.cumsum(r[::-1], axis=0)[::-1]\n",
    "    return jnp.sum(optax.softmax_cross_entropy_with_integer_labels(policy(s), a) * q)\n",
    "\n",
    "\n",
    "def causal_loss_with_baseline(policy, s: Array, a: Array, r: Array):\n",
    "    q = jnp.cumsum(r[::-1], axis=0)[::-1]\n",
    "    return jnp.sum(\n",
    "        optax.softmax_cross_entropy_with_integer_labels(policy(s), a) * (q - q.mean())\n",
    "    )\n",
    "\n",
    "\n",
    "noncausal_rewards = optimize_policy_gradient(noncausal_loss, n_iters=750)\n",
    "causal_rewards = optimize_policy_gradient(causal_loss, n_iters=750)\n",
    "causal_baseline_rewards = optimize_policy_gradient(causal_loss, n_iters=750)\n",
    "\n",
    "plot_rewards(\n",
    "    {\n",
    "        \"Noncausal\": noncausal_rewards,\n",
    "        \"Causal\": causal_rewards,\n",
    "        \"Causal Baseline\": causal_baseline_rewards,\n",
    "    }\n",
    ")"
   ]
  },
  {
   "cell_type": "code",
   "execution_count": null,
   "metadata": {},
   "outputs": [],
   "source": []
  }
 ],
 "metadata": {
  "kernelspec": {
   "display_name": "base",
   "language": "python",
   "name": "python3"
  },
  "language_info": {
   "codemirror_mode": {
    "name": "ipython",
    "version": 3
   },
   "file_extension": ".py",
   "mimetype": "text/x-python",
   "name": "python",
   "nbconvert_exporter": "python",
   "pygments_lexer": "ipython3",
   "version": "3.12.2"
  }
 },
 "nbformat": 4,
 "nbformat_minor": 2
}
