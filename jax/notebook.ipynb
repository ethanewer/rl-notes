{
 "cells": [
  {
   "cell_type": "code",
   "execution_count": 1,
   "metadata": {},
   "outputs": [
    {
     "name": "stderr",
     "output_type": "stream",
     "text": [
      "Optimizing Policy:   0%|          | 0/750 [00:00<?, ?it/s]\n"
     ]
    },
    {
     "ename": "TypeError",
     "evalue": "unhashable type: 'jaxlib.xla_extension.ArrayImpl'",
     "output_type": "error",
     "traceback": [
      "\u001b[0;31m---------------------------------------------------------------------------\u001b[0m",
      "\u001b[0;31mTypeError\u001b[0m                                 Traceback (most recent call last)",
      "Cell \u001b[0;32mIn[1], line 27\u001b[0m\n\u001b[1;32m     21\u001b[0m     q \u001b[38;5;241m=\u001b[39m jnp\u001b[38;5;241m.\u001b[39mcumsum(r[::\u001b[38;5;241m-\u001b[39m\u001b[38;5;241m1\u001b[39m], axis\u001b[38;5;241m=\u001b[39m\u001b[38;5;241m0\u001b[39m)[::\u001b[38;5;241m-\u001b[39m\u001b[38;5;241m1\u001b[39m]\n\u001b[1;32m     22\u001b[0m     \u001b[38;5;28;01mreturn\u001b[39;00m jnp\u001b[38;5;241m.\u001b[39msum(\n\u001b[1;32m     23\u001b[0m         optax\u001b[38;5;241m.\u001b[39msoftmax_cross_entropy_with_integer_labels(policy(s), a) \u001b[38;5;241m*\u001b[39m (q \u001b[38;5;241m-\u001b[39m q\u001b[38;5;241m.\u001b[39mmean())\n\u001b[1;32m     24\u001b[0m     )\n\u001b[0;32m---> 27\u001b[0m noncausal_rewards \u001b[38;5;241m=\u001b[39m \u001b[43moptimize_policy_gradient\u001b[49m\u001b[43m(\u001b[49m\u001b[43mnoncausal_loss\u001b[49m\u001b[43m,\u001b[49m\u001b[43m \u001b[49m\u001b[43mn_iters\u001b[49m\u001b[38;5;241;43m=\u001b[39;49m\u001b[38;5;241;43m750\u001b[39;49m\u001b[43m)\u001b[49m\n\u001b[1;32m     28\u001b[0m causal_rewards \u001b[38;5;241m=\u001b[39m optimize_policy_gradient(causal_loss, n_iters\u001b[38;5;241m=\u001b[39m\u001b[38;5;241m750\u001b[39m)\n\u001b[1;32m     29\u001b[0m causal_baseline_rewards \u001b[38;5;241m=\u001b[39m optimize_policy_gradient(causal_loss, n_iters\u001b[38;5;241m=\u001b[39m\u001b[38;5;241m750\u001b[39m)\n",
      "File \u001b[0;32m~/rl/jax/jax_policy_grad.py:90\u001b[0m, in \u001b[0;36moptimize_policy_gradient\u001b[0;34m(loss_fn, n_iters)\u001b[0m\n\u001b[1;32m     87\u001b[0m     a \u001b[38;5;241m=\u001b[39m jnp\u001b[38;5;241m.\u001b[39marray(actions)\n\u001b[1;32m     88\u001b[0m     r \u001b[38;5;241m=\u001b[39m jnp\u001b[38;5;241m.\u001b[39marray(rewards)\n\u001b[0;32m---> 90\u001b[0m     \u001b[43mtrain_step\u001b[49m\u001b[43m(\u001b[49m\u001b[43mpolicy\u001b[49m\u001b[43m,\u001b[49m\u001b[43m \u001b[49m\u001b[43mopt\u001b[49m\u001b[43m,\u001b[49m\u001b[43m \u001b[49m\u001b[43ms\u001b[49m\u001b[43m,\u001b[49m\u001b[43m \u001b[49m\u001b[43ma\u001b[49m\u001b[43m,\u001b[49m\u001b[43m \u001b[49m\u001b[43mr\u001b[49m\u001b[43m)\u001b[49m\n\u001b[1;32m     92\u001b[0m     reward_records\u001b[38;5;241m.\u001b[39mappend(\u001b[38;5;28msum\u001b[39m(rewards))\n\u001b[1;32m     94\u001b[0m env\u001b[38;5;241m.\u001b[39mclose()\n",
      "File \u001b[0;32m~/rl/jax/jax_policy_grad.py:79\u001b[0m, in \u001b[0;36moptimize_policy_gradient.<locals>.train_step\u001b[0;34m(policy, opt, s, a, r)\u001b[0m\n\u001b[1;32m     72\u001b[0m \u001b[38;5;28;01mdef\u001b[39;00m \u001b[38;5;21mtrain_step\u001b[39m(\n\u001b[1;32m     73\u001b[0m     policy: MLP,\n\u001b[1;32m     74\u001b[0m     opt: nnx\u001b[38;5;241m.\u001b[39mOptimizer,\n\u001b[0;32m   (...)\u001b[0m\n\u001b[1;32m     77\u001b[0m     r: Array,\n\u001b[1;32m     78\u001b[0m ) \u001b[38;5;241m-\u001b[39m\u001b[38;5;241m>\u001b[39m Array:\n\u001b[0;32m---> 79\u001b[0m     loss, grads \u001b[38;5;241m=\u001b[39m \u001b[43mnnx\u001b[49m\u001b[38;5;241;43m.\u001b[39;49m\u001b[43mvalue_and_grad\u001b[49m\u001b[43m(\u001b[49m\u001b[43mloss_fn\u001b[49m\u001b[43m)\u001b[49m\u001b[43m(\u001b[49m\u001b[43mpolicy\u001b[49m\u001b[43m,\u001b[49m\u001b[43m \u001b[49m\u001b[43ms\u001b[49m\u001b[43m,\u001b[49m\u001b[43m \u001b[49m\u001b[43ma\u001b[49m\u001b[43m,\u001b[49m\u001b[43m \u001b[49m\u001b[43mr\u001b[49m\u001b[43m)\u001b[49m\n\u001b[1;32m     80\u001b[0m     opt\u001b[38;5;241m.\u001b[39mupdate(grads)\n\u001b[1;32m     81\u001b[0m     \u001b[38;5;28;01mreturn\u001b[39;00m loss\n",
      "File \u001b[0;32m~/miniconda3/lib/python3.12/site-packages/flax/nnx/nnx/graph.py:1158\u001b[0m, in \u001b[0;36mUpdateContextManager.__call__.<locals>.update_context_manager_wrapper\u001b[0;34m(*args, **kwargs)\u001b[0m\n\u001b[1;32m   1155\u001b[0m \u001b[38;5;129m@functools\u001b[39m\u001b[38;5;241m.\u001b[39mwraps(f)\n\u001b[1;32m   1156\u001b[0m \u001b[38;5;28;01mdef\u001b[39;00m \u001b[38;5;21mupdate_context_manager_wrapper\u001b[39m(\u001b[38;5;241m*\u001b[39margs, \u001b[38;5;241m*\u001b[39m\u001b[38;5;241m*\u001b[39mkwargs):\n\u001b[1;32m   1157\u001b[0m   \u001b[38;5;28;01mwith\u001b[39;00m \u001b[38;5;28mself\u001b[39m:\n\u001b[0;32m-> 1158\u001b[0m     \u001b[38;5;28;01mreturn\u001b[39;00m \u001b[43mf\u001b[49m\u001b[43m(\u001b[49m\u001b[38;5;241;43m*\u001b[39;49m\u001b[43margs\u001b[49m\u001b[43m,\u001b[49m\u001b[43m \u001b[49m\u001b[38;5;241;43m*\u001b[39;49m\u001b[38;5;241;43m*\u001b[39;49m\u001b[43mkwargs\u001b[49m\u001b[43m)\u001b[49m\n",
      "File \u001b[0;32m~/miniconda3/lib/python3.12/site-packages/flax/nnx/nnx/transforms/autodiff.py:164\u001b[0m, in \u001b[0;36m_grad_general.<locals>.grad_wrapper\u001b[0;34m(***failed resolving arguments***)\u001b[0m\n\u001b[1;32m    159\u001b[0m pure_args \u001b[38;5;241m=\u001b[39m extract\u001b[38;5;241m.\u001b[39mto_tree(\n\u001b[1;32m    160\u001b[0m   args, prefix\u001b[38;5;241m=\u001b[39marg_filters, split_fn\u001b[38;5;241m=\u001b[39m_grad_split_fn, ctxtag\u001b[38;5;241m=\u001b[39m\u001b[38;5;124m'\u001b[39m\u001b[38;5;124mgrad\u001b[39m\u001b[38;5;124m'\u001b[39m\n\u001b[1;32m    161\u001b[0m )\n\u001b[1;32m    163\u001b[0m \u001b[38;5;28;01mwith\u001b[39;00m extract\u001b[38;5;241m.\u001b[39mbroadcast_state(\u001b[38;5;124m'\u001b[39m\u001b[38;5;124mgrad\u001b[39m\u001b[38;5;124m'\u001b[39m, nondiff_states):\n\u001b[0;32m--> 164\u001b[0m   fn_out \u001b[38;5;241m=\u001b[39m \u001b[43mgradded_fn\u001b[49m\u001b[43m(\u001b[49m\u001b[38;5;241;43m*\u001b[39;49m\u001b[43mpure_args\u001b[49m\u001b[43m)\u001b[49m\n\u001b[1;32m    166\u001b[0m \u001b[38;5;28;01mdef\u001b[39;00m \u001b[38;5;21mprocess_grads\u001b[39m(grads):\n\u001b[1;32m    167\u001b[0m   \u001b[38;5;28;01mreturn\u001b[39;00m jax\u001b[38;5;241m.\u001b[39mtree\u001b[38;5;241m.\u001b[39mmap(\n\u001b[1;32m    168\u001b[0m     \u001b[38;5;28;01mlambda\u001b[39;00m x: x\u001b[38;5;241m.\u001b[39mstate \u001b[38;5;28;01mif\u001b[39;00m \u001b[38;5;28misinstance\u001b[39m(x, extract\u001b[38;5;241m.\u001b[39mTreeNode) \u001b[38;5;28;01melse\u001b[39;00m x,\n\u001b[1;32m    169\u001b[0m     grads,\n\u001b[1;32m    170\u001b[0m     is_leaf\u001b[38;5;241m=\u001b[39m\u001b[38;5;28;01mlambda\u001b[39;00m x: \u001b[38;5;28misinstance\u001b[39m(x, extract\u001b[38;5;241m.\u001b[39mTreeNode),\n\u001b[1;32m    171\u001b[0m   )\n",
      "    \u001b[0;31m[... skipping hidden 8 frame]\u001b[0m\n",
      "File \u001b[0;32m~/miniconda3/lib/python3.12/site-packages/flax/nnx/nnx/transforms/autodiff.py:86\u001b[0m, in \u001b[0;36mGradFn.__call__\u001b[0;34m(self, *pure_args)\u001b[0m\n\u001b[1;32m     82\u001b[0m     \u001b[38;5;28;01mreturn\u001b[39;00m ctx\u001b[38;5;241m.\u001b[39mmerge(value\u001b[38;5;241m.\u001b[39mgraphdef, value\u001b[38;5;241m.\u001b[39mstate, nondiff)\n\u001b[1;32m     84\u001b[0m args \u001b[38;5;241m=\u001b[39m extract\u001b[38;5;241m.\u001b[39mfrom_tree(pure_args, merge_fn\u001b[38;5;241m=\u001b[39m_grad_merge_fn, ctxtag\u001b[38;5;241m=\u001b[39m\u001b[38;5;124m'\u001b[39m\u001b[38;5;124mgrad\u001b[39m\u001b[38;5;124m'\u001b[39m)\n\u001b[0;32m---> 86\u001b[0m out \u001b[38;5;241m=\u001b[39m \u001b[38;5;28;43mself\u001b[39;49m\u001b[38;5;241;43m.\u001b[39;49m\u001b[43mf\u001b[49m\u001b[43m(\u001b[49m\u001b[38;5;241;43m*\u001b[39;49m\u001b[43margs\u001b[49m\u001b[43m)\u001b[49m\n\u001b[1;32m     88\u001b[0m args_out \u001b[38;5;241m=\u001b[39m extract\u001b[38;5;241m.\u001b[39mclear_non_graph_nodes(args)\n\u001b[1;32m     89\u001b[0m pure_args_out, pure_out \u001b[38;5;241m=\u001b[39m extract\u001b[38;5;241m.\u001b[39mto_tree((args_out, out), ctxtag\u001b[38;5;241m=\u001b[39m\u001b[38;5;124m'\u001b[39m\u001b[38;5;124mgrad\u001b[39m\u001b[38;5;124m'\u001b[39m)\n",
      "Cell \u001b[0;32mIn[1], line 10\u001b[0m, in \u001b[0;36mnoncausal_loss\u001b[0;34m(policy, s, a, r)\u001b[0m\n\u001b[1;32m      9\u001b[0m \u001b[38;5;28;01mdef\u001b[39;00m \u001b[38;5;21mnoncausal_loss\u001b[39m(policy: MLP, s: Array, a: Array, r: Array):\n\u001b[0;32m---> 10\u001b[0m     \u001b[38;5;28mprint\u001b[39m(\u001b[43mjax\u001b[49m\u001b[38;5;241;43m.\u001b[39;49m\u001b[43mdevices\u001b[49m\u001b[43m(\u001b[49m\u001b[43ms\u001b[49m\u001b[43m)\u001b[49m)\n\u001b[1;32m     11\u001b[0m     \u001b[38;5;28mprint\u001b[39m(jax\u001b[38;5;241m.\u001b[39mdevices(policy(s)))\n\u001b[1;32m     12\u001b[0m     \u001b[38;5;28;01mreturn\u001b[39;00m optax\u001b[38;5;241m.\u001b[39msoftmax_cross_entropy_with_integer_labels(policy(s), a)\u001b[38;5;241m.\u001b[39msum() \u001b[38;5;241m*\u001b[39m r\u001b[38;5;241m.\u001b[39msum()\n",
      "File \u001b[0;32m~/miniconda3/lib/python3.12/site-packages/jax/_src/xla_bridge.py:1083\u001b[0m, in \u001b[0;36mdevices\u001b[0;34m(backend)\u001b[0m\n\u001b[1;32m   1058\u001b[0m \u001b[38;5;28;01mdef\u001b[39;00m \u001b[38;5;21mdevices\u001b[39m(\n\u001b[1;32m   1059\u001b[0m     backend: \u001b[38;5;28mstr\u001b[39m \u001b[38;5;241m|\u001b[39m xla_client\u001b[38;5;241m.\u001b[39mClient \u001b[38;5;241m|\u001b[39m \u001b[38;5;28;01mNone\u001b[39;00m \u001b[38;5;241m=\u001b[39m \u001b[38;5;28;01mNone\u001b[39;00m\n\u001b[1;32m   1060\u001b[0m ) \u001b[38;5;241m-\u001b[39m\u001b[38;5;241m>\u001b[39m \u001b[38;5;28mlist\u001b[39m[xla_client\u001b[38;5;241m.\u001b[39mDevice]:\n\u001b[1;32m   1061\u001b[0m \u001b[38;5;250m  \u001b[39m\u001b[38;5;124;03m\"\"\"Returns a list of all devices for a given backend.\u001b[39;00m\n\u001b[1;32m   1062\u001b[0m \n\u001b[1;32m   1063\u001b[0m \u001b[38;5;124;03m  .. currentmodule:: jaxlib.xla_extension\u001b[39;00m\n\u001b[0;32m   (...)\u001b[0m\n\u001b[1;32m   1081\u001b[0m \u001b[38;5;124;03m    List of Device subclasses.\u001b[39;00m\n\u001b[1;32m   1082\u001b[0m \u001b[38;5;124;03m  \"\"\"\u001b[39;00m\n\u001b[0;32m-> 1083\u001b[0m   \u001b[38;5;28;01mreturn\u001b[39;00m \u001b[43mget_backend\u001b[49m\u001b[43m(\u001b[49m\u001b[43mbackend\u001b[49m\u001b[43m)\u001b[49m\u001b[38;5;241m.\u001b[39mdevices()\n",
      "\u001b[0;31mTypeError\u001b[0m: unhashable type: 'jaxlib.xla_extension.ArrayImpl'"
     ]
    }
   ],
   "source": [
    "import optax\n",
    "from jax_policy_grad import MLP, optimize_policy_gradient, plot_rewards\n",
    "\n",
    "import jax.numpy as jnp\n",
    "from jax import Array\n",
    "\n",
    "\n",
    "def noncausal_loss(policy: MLP, s: Array, a: Array, r: Array):\n",
    "    return optax.softmax_cross_entropy_with_integer_labels(policy(s), a).sum() * r.sum()\n",
    "\n",
    "\n",
    "def causal_loss(policy: MLP, s: Array, a: Array, r: Array):\n",
    "    q = jnp.cumsum(r[::-1], axis=0)[::-1]\n",
    "    return jnp.sum(optax.softmax_cross_entropy_with_integer_labels(policy(s), a) * q)\n",
    "\n",
    "\n",
    "def causal_loss_with_baseline(policy: MLP, s: Array, a: Array, r: Array):\n",
    "    q = jnp.cumsum(r[::-1], axis=0)[::-1]\n",
    "    return jnp.sum(\n",
    "        optax.softmax_cross_entropy_with_integer_labels(policy(s), a) * (q - q.mean())\n",
    "    )\n",
    "\n",
    "\n",
    "noncausal_rewards = optimize_policy_gradient(noncausal_loss, n_iters=750)\n",
    "causal_rewards = optimize_policy_gradient(causal_loss, n_iters=750)\n",
    "causal_baseline_rewards = optimize_policy_gradient(causal_loss, n_iters=750)\n",
    "\n",
    "plot_rewards(\n",
    "    {\n",
    "        \"Noncausal\": noncausal_rewards,\n",
    "        \"Causal\": causal_rewards,\n",
    "        \"Causal Baseline\": causal_baseline_rewards,\n",
    "    }\n",
    ")"
   ]
  },
  {
   "cell_type": "code",
   "execution_count": null,
   "metadata": {},
   "outputs": [],
   "source": []
  }
 ],
 "metadata": {
  "kernelspec": {
   "display_name": "base",
   "language": "python",
   "name": "python3"
  },
  "language_info": {
   "codemirror_mode": {
    "name": "ipython",
    "version": 3
   },
   "file_extension": ".py",
   "mimetype": "text/x-python",
   "name": "python",
   "nbconvert_exporter": "python",
   "pygments_lexer": "ipython3",
   "version": "3.12.2"
  }
 },
 "nbformat": 4,
 "nbformat_minor": 2
}
